{
 "cells": [
  {
   "cell_type": "code",
   "execution_count": 1,
   "id": "18391480",
   "metadata": {},
   "outputs": [],
   "source": [
    "#Имена входного и выходного файла\n",
    "FILENAME = 'in.xlsx'\n",
    "FILENAME_OUT = 'out.xlsx'"
   ]
  },
  {
   "cell_type": "code",
   "execution_count": 8,
   "id": "328a9de7",
   "metadata": {},
   "outputs": [
    {
     "name": "stdout",
     "output_type": "stream",
     "text": [
      "0 Запись в файл, вопрос 20. Насколько вы довольны услугами продвижения?\n",
      "1 Запись в файл, вопрос 21. Почему вы поставили такую оценку? Расскажите максимально подробно, пожалуйста.\n",
      "2 Запись в файл, вопрос 22. Непонятны алгоритмы работы\n",
      "3 Запись в файл, вопрос 22. Мне не нравятся новые услуги продвижения. Старые были лучше\n",
      "4 Запись в файл, вопрос 22. Испытываю проблемы с возвратом средств за продвижение при блокировке объявления\n",
      "5 Запись в файл, вопрос 22. Нет роста просмотров\n",
      "6 Запись в файл, вопрос 22. Есть прирост просмотров, нет звонков/сообщений\n",
      "7 Запись в файл, вопрос 22. Есть прирост просмотров и звонков/сообщений, нет продаж\n",
      "8 Запись в файл, вопрос 22. После применения услуги не вижу поднятия в поиске / объявление очень низко\n",
      "9 Запись в файл, вопрос 22. Не вижу разницы между услугами разной силы или длительности\n",
      "10 Запись в файл, вопрос 22. Результат то есть, то нет\n",
      "11 Запись в файл, вопрос 22. Думаю, что просмотры Авито не настоящие\n",
      "12 Запись в файл, вопрос 22. Дорого относительно цены товара\n",
      "13 Запись в файл, вопрос 8. Насколько вероятно, что вы порекомендуете услуги продвижения своим знакомым, коллегам, друзьям?\n",
      "14 Запись в файл, вопрос 10. Почему вы поставили такую оценку?\n",
      "15 Запись в файл, вопрос 5. Насколько вы доверяете Авито?\n",
      "16 Запись в файл, вопрос 6. Если у вас осталось еще что-то, чем вы хотели бы с нами поделиться, запишите в этом поле\n"
     ]
    }
   ],
   "source": [
    "import pandas as pd\n",
    "import numpy as np\n",
    "\n",
    "#Прочитать данные из файла Excel\n",
    "DATA = pd.read_excel(f\"{FILENAME}\", dtype = str)\n",
    "\n",
    "#список вопросов\n",
    "#questions = DATA.iloc[0, 1:].values\n",
    "questions = DATA.columns[1:].values\n",
    "\n",
    "#переименовать столбцы (данные из 2 строки)\n",
    "#for i, name in  enumerate(DATA.columns):\n",
    "#    if i >= 6:\n",
    "#        old = name\n",
    "#        new = DATA.loc[0][i]\n",
    "#        DATA.rename(columns = {old : new}, inplace = True)\n",
    "\n",
    "#удалить первую строку\n",
    "#DATA.drop(index = 0, inplace = True)\n",
    "\n",
    "#удалить строки с пустой колонкой \"Время финиша\"\n",
    "#DATA_ED = DATA.dropna(subset = 'Время финиша')\n",
    "#DATA_ED = DATA_ED.replace({np.nan: 'Nan'})\n",
    "DATA_ED = DATA\n",
    "\n",
    "#Записать в Excel\n",
    "with pd.ExcelWriter(f\"{FILENAME_OUT}\", engine = 'xlsxwriter') as writer:\n",
    "\n",
    "    \n",
    "    for i, vopros in enumerate(questions):\n",
    "        vopros_num = vopros.split()[0]\n",
    "        \n",
    "        filter_col = [col for col in DATA_ED if col.startswith(vopros_num)]\n",
    "        vopros_count = len(DATA_ED[filter_col].columns)\n",
    "        \n",
    "        \n",
    "        if vopros_count != 1:\n",
    "            #если вопрос - составной\n",
    "            DATA_EDS = DATA_ED[filter_col]\n",
    "            DATA_EDS = DATA_EDS.dropna(axis = 0, how='all', inplace = False)           \n",
    "            DATA_EDS = DATA_EDS.replace({np.nan: 'Nan'})\n",
    "            \n",
    "            \n",
    "            total_answers_count = DATA_EDS[vopros].count()\n",
    "            \n",
    "            srez = DATA_EDS[vopros].value_counts()\n",
    "        else:\n",
    "            total_answers_count = DATA_ED[vopros].count()\n",
    "\n",
    "            srez = DATA_ED[vopros].value_counts()\n",
    "\n",
    "        srez_pd = pd.DataFrame(srez)\n",
    "        srez_pd = srez_pd.sort_index()\n",
    "        srez_pd.loc['Всего ответов'] = total_answers_count\n",
    "\n",
    "        srez_pd['Процент'] = (srez_pd[vopros] / total_answers_count)\n",
    "\n",
    "        #srez_pd\n",
    "        #srez_pd.to_excel(f\"{i}.xlsx\", index=True,) #save to xls file\n",
    "        srez_pd.to_excel(writer, sheet_name = f\"{i}_{vopros[:28]}\")\n",
    "        print(f\"{i} Запись в файл, вопрос {vopros}\")"
   ]
  }
 ],
 "metadata": {
  "kernelspec": {
   "display_name": "Python 3 (ipykernel)",
   "language": "python",
   "name": "python3"
  },
  "language_info": {
   "codemirror_mode": {
    "name": "ipython",
    "version": 3
   },
   "file_extension": ".py",
   "mimetype": "text/x-python",
   "name": "python",
   "nbconvert_exporter": "python",
   "pygments_lexer": "ipython3",
   "version": "3.9.12"
  }
 },
 "nbformat": 4,
 "nbformat_minor": 5
}
